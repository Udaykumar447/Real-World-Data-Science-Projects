{
 "cells": [
  {
   "cell_type": "markdown",
   "metadata": {},
   "source": [
    "# Amazon Home Kitchen Product Reviews Analysis\n",
    "\n",
    "\n",
    "Data Source: http://jmcauley.ucsd.edu/data/amazon/index_2014.html\n",
    "\n",
    "The Amazon Home Kitchen Product Reviews dataset consists of reviews of home and kitchen products from Amazon website.<br>\n",
    "\n",
    "Number of reviews: 551,682<br>\n",
    "Timespan: May 1996 - July 2014<br>\n",
    "Number of Attributes/Columns in data: 9\n",
    "\n",
    "#### Attribute Information:\n",
    "\n",
    "1. reviewerId - unqiue identifier of the reviewer\n",
    "2. asin - unique identifier for the product\n",
    "3. reviewerName\n",
    "4. Helpfulness numerator and Helpfulness denominator\n",
    "   HelpfulnessNumerator - number of users who found the review helpful\n",
    "   HelpfulnessDenominator - number of users who indicated whether they found the review helpful or not\n",
    "5. reviewText - text of the review\n",
    "6. overall - the overall rating of the reviewer\n",
    "7. summary - brief summary of the review\n",
    "8. unixReviewTime - timestamp for the review\n",
    "9. Time - Date of the review"
   ]
  },
  {
   "cell_type": "markdown",
   "metadata": {},
   "source": [
    "#### Objective\n",
    "* Determining the polarity of the review (whether the review is positive (Rating of 4 or 5) or negative (rating of 1 or 2)) using the reviews given by the user.\n",
    "\n",
    "#### Ground truth \n",
    "* We will use Overall score to determine the ground truth of the review. If the score is 4 or 5 , we will consider that review as positive review. If the score is 1 or 2 , we will consider that review as negative review. we will ignore the reviews with the rating of 3."
   ]
  },
  {
   "cell_type": "markdown",
   "metadata": {},
   "source": [
    "# Loading the data"
   ]
  },
  {
   "cell_type": "markdown",
   "metadata": {},
   "source": [
    "The data is available is in .json file form in data source link and we converted that into .csv file using the code below"
   ]
  },
  {
   "cell_type": "markdown",
   "metadata": {},
   "source": [
    "import pandas as pd\n",
    "import gzip\n",
    "import json\n",
    "\n",
    "def parse(path):\n",
    "  g = gzip.open(path, 'rb')\n",
    "  for l in g:\n",
    "    yield json.loads(l)\n",
    "\n",
    "def getDF(path):\n",
    "  i = 0\n",
    "  df = {}\n",
    "  for d in parse(path):\n",
    "    df[i] = d\n",
    "    i += 1\n",
    "  return pd.DataFrame.from_dict(df, orient='index')\n",
    "\n",
    "df = getDF('reviews_Home_and_Kitchen_5.json.gz')\n",
    "\n",
    "df.to_csv('amazon_home_kitchen_product_data', encoding='utf-8', index=False)"
   ]
  },
  {
   "cell_type": "code",
   "execution_count": 356,
   "metadata": {},
   "outputs": [],
   "source": [
    "import pandas as pd\n",
    "import numpy as np\n",
    "import matplotlib.pyplot as plt\n",
    "data = pd.read_csv('amazon_home_kitchen_product_data')"
   ]
  },
  {
   "cell_type": "code",
   "execution_count": 357,
   "metadata": {},
   "outputs": [
    {
     "data": {
      "text/html": [
       "<div>\n",
       "<style scoped>\n",
       "    .dataframe tbody tr th:only-of-type {\n",
       "        vertical-align: middle;\n",
       "    }\n",
       "\n",
       "    .dataframe tbody tr th {\n",
       "        vertical-align: top;\n",
       "    }\n",
       "\n",
       "    .dataframe thead th {\n",
       "        text-align: right;\n",
       "    }\n",
       "</style>\n",
       "<table border=\"1\" class=\"dataframe\">\n",
       "  <thead>\n",
       "    <tr style=\"text-align: right;\">\n",
       "      <th></th>\n",
       "      <th>reviewerID</th>\n",
       "      <th>asin</th>\n",
       "      <th>reviewerName</th>\n",
       "      <th>helpful</th>\n",
       "      <th>reviewText</th>\n",
       "      <th>overall</th>\n",
       "      <th>summary</th>\n",
       "      <th>unixReviewTime</th>\n",
       "      <th>reviewTime</th>\n",
       "    </tr>\n",
       "  </thead>\n",
       "  <tbody>\n",
       "    <tr>\n",
       "      <th>0</th>\n",
       "      <td>APYOBQE6M18AA</td>\n",
       "      <td>0615391206</td>\n",
       "      <td>Martin Schwartz</td>\n",
       "      <td>[0, 0]</td>\n",
       "      <td>My daughter wanted this book and the price on ...</td>\n",
       "      <td>5.0</td>\n",
       "      <td>Best Price</td>\n",
       "      <td>1382140800</td>\n",
       "      <td>10 19, 2013</td>\n",
       "    </tr>\n",
       "    <tr>\n",
       "      <th>1</th>\n",
       "      <td>A1JVQTAGHYOL7F</td>\n",
       "      <td>0615391206</td>\n",
       "      <td>Michelle Dinh</td>\n",
       "      <td>[0, 0]</td>\n",
       "      <td>I bought this zoku quick pop for my daughterr ...</td>\n",
       "      <td>5.0</td>\n",
       "      <td>zoku</td>\n",
       "      <td>1403049600</td>\n",
       "      <td>06 18, 2014</td>\n",
       "    </tr>\n",
       "    <tr>\n",
       "      <th>2</th>\n",
       "      <td>A3UPYGJKZ0XTU4</td>\n",
       "      <td>0615391206</td>\n",
       "      <td>mirasreviews</td>\n",
       "      <td>[26, 27]</td>\n",
       "      <td>There is no shortage of pop recipes available ...</td>\n",
       "      <td>4.0</td>\n",
       "      <td>Excels at Sweet Dessert Pops, but Falls Short ...</td>\n",
       "      <td>1367712000</td>\n",
       "      <td>05 5, 2013</td>\n",
       "    </tr>\n",
       "    <tr>\n",
       "      <th>3</th>\n",
       "      <td>A2MHCTX43MIMDZ</td>\n",
       "      <td>0615391206</td>\n",
       "      <td>M. Johnson \"Tea Lover\"</td>\n",
       "      <td>[14, 18]</td>\n",
       "      <td>This book is a must have if you get a Zoku (wh...</td>\n",
       "      <td>5.0</td>\n",
       "      <td>Creative Combos</td>\n",
       "      <td>1312416000</td>\n",
       "      <td>08 4, 2011</td>\n",
       "    </tr>\n",
       "    <tr>\n",
       "      <th>4</th>\n",
       "      <td>AHAI85T5C2DH3</td>\n",
       "      <td>0615391206</td>\n",
       "      <td>PugLover</td>\n",
       "      <td>[0, 0]</td>\n",
       "      <td>This cookbook is great.  I have really enjoyed...</td>\n",
       "      <td>4.0</td>\n",
       "      <td>A must own if you own the Zoku maker...</td>\n",
       "      <td>1402099200</td>\n",
       "      <td>06 7, 2014</td>\n",
       "    </tr>\n",
       "  </tbody>\n",
       "</table>\n",
       "</div>"
      ],
      "text/plain": [
       "       reviewerID        asin            reviewerName   helpful  \\\n",
       "0   APYOBQE6M18AA  0615391206         Martin Schwartz    [0, 0]   \n",
       "1  A1JVQTAGHYOL7F  0615391206           Michelle Dinh    [0, 0]   \n",
       "2  A3UPYGJKZ0XTU4  0615391206            mirasreviews  [26, 27]   \n",
       "3  A2MHCTX43MIMDZ  0615391206  M. Johnson \"Tea Lover\"  [14, 18]   \n",
       "4   AHAI85T5C2DH3  0615391206                PugLover    [0, 0]   \n",
       "\n",
       "                                          reviewText  overall  \\\n",
       "0  My daughter wanted this book and the price on ...      5.0   \n",
       "1  I bought this zoku quick pop for my daughterr ...      5.0   \n",
       "2  There is no shortage of pop recipes available ...      4.0   \n",
       "3  This book is a must have if you get a Zoku (wh...      5.0   \n",
       "4  This cookbook is great.  I have really enjoyed...      4.0   \n",
       "\n",
       "                                             summary  unixReviewTime  \\\n",
       "0                                         Best Price      1382140800   \n",
       "1                                               zoku      1403049600   \n",
       "2  Excels at Sweet Dessert Pops, but Falls Short ...      1367712000   \n",
       "3                                    Creative Combos      1312416000   \n",
       "4            A must own if you own the Zoku maker...      1402099200   \n",
       "\n",
       "    reviewTime  \n",
       "0  10 19, 2013  \n",
       "1  06 18, 2014  \n",
       "2   05 5, 2013  \n",
       "3   08 4, 2011  \n",
       "4   06 7, 2014  "
      ]
     },
     "execution_count": 357,
     "metadata": {},
     "output_type": "execute_result"
    }
   ],
   "source": [
    "# displyaing the first few rows of data\n",
    "data.head()"
   ]
  },
  {
   "cell_type": "code",
   "execution_count": 358,
   "metadata": {},
   "outputs": [
    {
     "data": {
      "text/plain": [
       "(551682, 9)"
      ]
     },
     "execution_count": 358,
     "metadata": {},
     "output_type": "execute_result"
    }
   ],
   "source": [
    "# The shape of the data before filtering the score rating 3\n",
    "data.shape"
   ]
  },
  {
   "cell_type": "code",
   "execution_count": 359,
   "metadata": {},
   "outputs": [],
   "source": [
    "# filtering the data by removing the overall rating score - 3 \n",
    "filtered_data = data[data.overall!= 3]"
   ]
  },
  {
   "cell_type": "code",
   "execution_count": 360,
   "metadata": {},
   "outputs": [
    {
     "data": {
      "text/plain": [
       "(506623, 9)"
      ]
     },
     "execution_count": 360,
     "metadata": {},
     "output_type": "execute_result"
    }
   ],
   "source": [
    "# The shape of the data after filtering the score rating 3\n",
    "filtered_data.shape"
   ]
  },
  {
   "cell_type": "code",
   "execution_count": 361,
   "metadata": {},
   "outputs": [],
   "source": [
    "# changing the overall rating column to positive and negative categories\n",
    "import warnings\n",
    "warnings.filterwarnings(\"ignore\")\n",
    "\n",
    "def partition(x):\n",
    "    if x < 3:\n",
    "        return 'negative'\n",
    "    return 'positive'\n",
    "\n",
    "actualScore = filtered_data['overall']\n",
    "positiveNegative = actualScore.map(partition) \n",
    "filtered_data['overall'] = positiveNegative\n",
    "\n",
    "# changing the overall column name to score for better understanding\n",
    "filtered_data = filtered_data.rename(columns={\"overall\": \"score\", \"asin\":\"productId\"})"
   ]
  },
  {
   "cell_type": "code",
   "execution_count": 362,
   "metadata": {},
   "outputs": [
    {
     "data": {
      "text/html": [
       "<div>\n",
       "<style scoped>\n",
       "    .dataframe tbody tr th:only-of-type {\n",
       "        vertical-align: middle;\n",
       "    }\n",
       "\n",
       "    .dataframe tbody tr th {\n",
       "        vertical-align: top;\n",
       "    }\n",
       "\n",
       "    .dataframe thead th {\n",
       "        text-align: right;\n",
       "    }\n",
       "</style>\n",
       "<table border=\"1\" class=\"dataframe\">\n",
       "  <thead>\n",
       "    <tr style=\"text-align: right;\">\n",
       "      <th></th>\n",
       "      <th>reviewerID</th>\n",
       "      <th>productId</th>\n",
       "      <th>reviewerName</th>\n",
       "      <th>helpful</th>\n",
       "      <th>reviewText</th>\n",
       "      <th>score</th>\n",
       "      <th>summary</th>\n",
       "      <th>unixReviewTime</th>\n",
       "      <th>reviewTime</th>\n",
       "    </tr>\n",
       "  </thead>\n",
       "  <tbody>\n",
       "    <tr>\n",
       "      <th>0</th>\n",
       "      <td>APYOBQE6M18AA</td>\n",
       "      <td>0615391206</td>\n",
       "      <td>Martin Schwartz</td>\n",
       "      <td>[0, 0]</td>\n",
       "      <td>My daughter wanted this book and the price on ...</td>\n",
       "      <td>positive</td>\n",
       "      <td>Best Price</td>\n",
       "      <td>1382140800</td>\n",
       "      <td>10 19, 2013</td>\n",
       "    </tr>\n",
       "    <tr>\n",
       "      <th>1</th>\n",
       "      <td>A1JVQTAGHYOL7F</td>\n",
       "      <td>0615391206</td>\n",
       "      <td>Michelle Dinh</td>\n",
       "      <td>[0, 0]</td>\n",
       "      <td>I bought this zoku quick pop for my daughterr ...</td>\n",
       "      <td>positive</td>\n",
       "      <td>zoku</td>\n",
       "      <td>1403049600</td>\n",
       "      <td>06 18, 2014</td>\n",
       "    </tr>\n",
       "    <tr>\n",
       "      <th>2</th>\n",
       "      <td>A3UPYGJKZ0XTU4</td>\n",
       "      <td>0615391206</td>\n",
       "      <td>mirasreviews</td>\n",
       "      <td>[26, 27]</td>\n",
       "      <td>There is no shortage of pop recipes available ...</td>\n",
       "      <td>positive</td>\n",
       "      <td>Excels at Sweet Dessert Pops, but Falls Short ...</td>\n",
       "      <td>1367712000</td>\n",
       "      <td>05 5, 2013</td>\n",
       "    </tr>\n",
       "    <tr>\n",
       "      <th>3</th>\n",
       "      <td>A2MHCTX43MIMDZ</td>\n",
       "      <td>0615391206</td>\n",
       "      <td>M. Johnson \"Tea Lover\"</td>\n",
       "      <td>[14, 18]</td>\n",
       "      <td>This book is a must have if you get a Zoku (wh...</td>\n",
       "      <td>positive</td>\n",
       "      <td>Creative Combos</td>\n",
       "      <td>1312416000</td>\n",
       "      <td>08 4, 2011</td>\n",
       "    </tr>\n",
       "    <tr>\n",
       "      <th>4</th>\n",
       "      <td>AHAI85T5C2DH3</td>\n",
       "      <td>0615391206</td>\n",
       "      <td>PugLover</td>\n",
       "      <td>[0, 0]</td>\n",
       "      <td>This cookbook is great.  I have really enjoyed...</td>\n",
       "      <td>positive</td>\n",
       "      <td>A must own if you own the Zoku maker...</td>\n",
       "      <td>1402099200</td>\n",
       "      <td>06 7, 2014</td>\n",
       "    </tr>\n",
       "  </tbody>\n",
       "</table>\n",
       "</div>"
      ],
      "text/plain": [
       "       reviewerID   productId            reviewerName   helpful  \\\n",
       "0   APYOBQE6M18AA  0615391206         Martin Schwartz    [0, 0]   \n",
       "1  A1JVQTAGHYOL7F  0615391206           Michelle Dinh    [0, 0]   \n",
       "2  A3UPYGJKZ0XTU4  0615391206            mirasreviews  [26, 27]   \n",
       "3  A2MHCTX43MIMDZ  0615391206  M. Johnson \"Tea Lover\"  [14, 18]   \n",
       "4   AHAI85T5C2DH3  0615391206                PugLover    [0, 0]   \n",
       "\n",
       "                                          reviewText     score  \\\n",
       "0  My daughter wanted this book and the price on ...  positive   \n",
       "1  I bought this zoku quick pop for my daughterr ...  positive   \n",
       "2  There is no shortage of pop recipes available ...  positive   \n",
       "3  This book is a must have if you get a Zoku (wh...  positive   \n",
       "4  This cookbook is great.  I have really enjoyed...  positive   \n",
       "\n",
       "                                             summary  unixReviewTime  \\\n",
       "0                                         Best Price      1382140800   \n",
       "1                                               zoku      1403049600   \n",
       "2  Excels at Sweet Dessert Pops, but Falls Short ...      1367712000   \n",
       "3                                    Creative Combos      1312416000   \n",
       "4            A must own if you own the Zoku maker...      1402099200   \n",
       "\n",
       "    reviewTime  \n",
       "0  10 19, 2013  \n",
       "1  06 18, 2014  \n",
       "2   05 5, 2013  \n",
       "3   08 4, 2011  \n",
       "4   06 7, 2014  "
      ]
     },
     "execution_count": 362,
     "metadata": {},
     "output_type": "execute_result"
    }
   ],
   "source": [
    "# displyaing the first few rows of filtered data\n",
    "filtered_data.head()\n"
   ]
  },
  {
   "cell_type": "markdown",
   "metadata": {},
   "source": [
    "# Exploratory Data Analysis"
   ]
  },
  {
   "cell_type": "code",
   "execution_count": 363,
   "metadata": {},
   "outputs": [],
   "source": [
    "# splitting the helpful column to helpful numerator and helpful denominator\n",
    "helpfulness_num =[]\n",
    "helpfulness_denom =[]\n",
    "for i in filtered_data['helpful']:\n",
    "    m = i[1:-1]\n",
    "    k = m.split(',')\n",
    "    helpfulness_num.append(k[0]);\n",
    "    helpfulness_denom.append(k[1]);\n",
    "\n",
    "filtered_data['helpfulnessNumerator'] = helpfulness_num          # adding helpfulness numerator column\n",
    "filtered_data['helpfulnessDenominator'] = helpfulness_denom      # adding helpfulness denominator column\n",
    "\n",
    "filtered_data['helpfulnessNumerator'] = pd.to_numeric(filtered_data[\"helpfulnessNumerator\"])\n",
    "filtered_data['helpfulnessDenominator'] = pd.to_numeric(filtered_data[\"helpfulnessDenominator\"])\n",
    "\n",
    "del filtered_data['helpful']                                     # deleting helpful column"
   ]
  },
  {
   "cell_type": "code",
   "execution_count": 364,
   "metadata": {},
   "outputs": [
    {
     "data": {
      "text/html": [
       "<div>\n",
       "<style scoped>\n",
       "    .dataframe tbody tr th:only-of-type {\n",
       "        vertical-align: middle;\n",
       "    }\n",
       "\n",
       "    .dataframe tbody tr th {\n",
       "        vertical-align: top;\n",
       "    }\n",
       "\n",
       "    .dataframe thead th {\n",
       "        text-align: right;\n",
       "    }\n",
       "</style>\n",
       "<table border=\"1\" class=\"dataframe\">\n",
       "  <thead>\n",
       "    <tr style=\"text-align: right;\">\n",
       "      <th></th>\n",
       "      <th>reviewerID</th>\n",
       "      <th>productId</th>\n",
       "      <th>reviewerName</th>\n",
       "      <th>reviewText</th>\n",
       "      <th>score</th>\n",
       "      <th>summary</th>\n",
       "      <th>unixReviewTime</th>\n",
       "      <th>reviewTime</th>\n",
       "      <th>helpfulnessNumerator</th>\n",
       "      <th>helpfulnessDenominator</th>\n",
       "    </tr>\n",
       "  </thead>\n",
       "  <tbody>\n",
       "    <tr>\n",
       "      <th>0</th>\n",
       "      <td>APYOBQE6M18AA</td>\n",
       "      <td>0615391206</td>\n",
       "      <td>Martin Schwartz</td>\n",
       "      <td>My daughter wanted this book and the price on ...</td>\n",
       "      <td>positive</td>\n",
       "      <td>Best Price</td>\n",
       "      <td>1382140800</td>\n",
       "      <td>10 19, 2013</td>\n",
       "      <td>0</td>\n",
       "      <td>0</td>\n",
       "    </tr>\n",
       "    <tr>\n",
       "      <th>1</th>\n",
       "      <td>A1JVQTAGHYOL7F</td>\n",
       "      <td>0615391206</td>\n",
       "      <td>Michelle Dinh</td>\n",
       "      <td>I bought this zoku quick pop for my daughterr ...</td>\n",
       "      <td>positive</td>\n",
       "      <td>zoku</td>\n",
       "      <td>1403049600</td>\n",
       "      <td>06 18, 2014</td>\n",
       "      <td>0</td>\n",
       "      <td>0</td>\n",
       "    </tr>\n",
       "    <tr>\n",
       "      <th>2</th>\n",
       "      <td>A3UPYGJKZ0XTU4</td>\n",
       "      <td>0615391206</td>\n",
       "      <td>mirasreviews</td>\n",
       "      <td>There is no shortage of pop recipes available ...</td>\n",
       "      <td>positive</td>\n",
       "      <td>Excels at Sweet Dessert Pops, but Falls Short ...</td>\n",
       "      <td>1367712000</td>\n",
       "      <td>05 5, 2013</td>\n",
       "      <td>26</td>\n",
       "      <td>27</td>\n",
       "    </tr>\n",
       "    <tr>\n",
       "      <th>3</th>\n",
       "      <td>A2MHCTX43MIMDZ</td>\n",
       "      <td>0615391206</td>\n",
       "      <td>M. Johnson \"Tea Lover\"</td>\n",
       "      <td>This book is a must have if you get a Zoku (wh...</td>\n",
       "      <td>positive</td>\n",
       "      <td>Creative Combos</td>\n",
       "      <td>1312416000</td>\n",
       "      <td>08 4, 2011</td>\n",
       "      <td>14</td>\n",
       "      <td>18</td>\n",
       "    </tr>\n",
       "    <tr>\n",
       "      <th>4</th>\n",
       "      <td>AHAI85T5C2DH3</td>\n",
       "      <td>0615391206</td>\n",
       "      <td>PugLover</td>\n",
       "      <td>This cookbook is great.  I have really enjoyed...</td>\n",
       "      <td>positive</td>\n",
       "      <td>A must own if you own the Zoku maker...</td>\n",
       "      <td>1402099200</td>\n",
       "      <td>06 7, 2014</td>\n",
       "      <td>0</td>\n",
       "      <td>0</td>\n",
       "    </tr>\n",
       "  </tbody>\n",
       "</table>\n",
       "</div>"
      ],
      "text/plain": [
       "       reviewerID   productId            reviewerName  \\\n",
       "0   APYOBQE6M18AA  0615391206         Martin Schwartz   \n",
       "1  A1JVQTAGHYOL7F  0615391206           Michelle Dinh   \n",
       "2  A3UPYGJKZ0XTU4  0615391206            mirasreviews   \n",
       "3  A2MHCTX43MIMDZ  0615391206  M. Johnson \"Tea Lover\"   \n",
       "4   AHAI85T5C2DH3  0615391206                PugLover   \n",
       "\n",
       "                                          reviewText     score  \\\n",
       "0  My daughter wanted this book and the price on ...  positive   \n",
       "1  I bought this zoku quick pop for my daughterr ...  positive   \n",
       "2  There is no shortage of pop recipes available ...  positive   \n",
       "3  This book is a must have if you get a Zoku (wh...  positive   \n",
       "4  This cookbook is great.  I have really enjoyed...  positive   \n",
       "\n",
       "                                             summary  unixReviewTime  \\\n",
       "0                                         Best Price      1382140800   \n",
       "1                                               zoku      1403049600   \n",
       "2  Excels at Sweet Dessert Pops, but Falls Short ...      1367712000   \n",
       "3                                    Creative Combos      1312416000   \n",
       "4            A must own if you own the Zoku maker...      1402099200   \n",
       "\n",
       "    reviewTime  helpfulnessNumerator  helpfulnessDenominator  \n",
       "0  10 19, 2013                     0                       0  \n",
       "1  06 18, 2014                     0                       0  \n",
       "2   05 5, 2013                    26                      27  \n",
       "3   08 4, 2011                    14                      18  \n",
       "4   06 7, 2014                     0                       0  "
      ]
     },
     "execution_count": 364,
     "metadata": {},
     "output_type": "execute_result"
    }
   ],
   "source": [
    "# displyaing the first few rows of filtered data\n",
    "filtered_data.head()"
   ]
  },
  {
   "cell_type": "markdown",
   "metadata": {},
   "source": [
    "## Data cleaning "
   ]
  },
  {
   "cell_type": "markdown",
   "metadata": {},
   "source": [
    "### check \n",
    "duplicate values"
   ]
  },
  {
   "cell_type": "markdown",
   "metadata": {},
   "source": [
    " We need to remove the duplicate reviews text (if any) as it was necessary to remove duplicates in order to get unbiased results for the analysis of the data."
   ]
  },
  {
   "cell_type": "code",
   "execution_count": 365,
   "metadata": {},
   "outputs": [],
   "source": [
    "#Sorting data according to ProductId in ascending order\n",
    "sorted_data=filtered_data.sort_values('productId', axis=0, ascending=True, inplace=False, kind='quicksort', na_position='last')"
   ]
  },
  {
   "cell_type": "code",
   "execution_count": 366,
   "metadata": {},
   "outputs": [
    {
     "data": {
      "text/plain": [
       "(506623, 10)"
      ]
     },
     "execution_count": 366,
     "metadata": {},
     "output_type": "execute_result"
    }
   ],
   "source": [
    "#Deduplication of entries\n",
    "final=sorted_data.drop_duplicates(subset={\"reviewerID\",\"reviewerName\",\"unixReviewTime\",\"reviewText\"}, keep='first', inplace=False)\n",
    "final.shape"
   ]
  },
  {
   "cell_type": "markdown",
   "metadata": {},
   "source": [
    "The number of rows does not change after removing duplicates which shows that there are no duplicate reviews."
   ]
  },
  {
   "cell_type": "markdown",
   "metadata": {},
   "source": [
    "### check \n",
    "if there are any data points where helpfulnessNumerator is higher than helpfulnessDenominator"
   ]
  },
  {
   "cell_type": "code",
   "execution_count": 367,
   "metadata": {},
   "outputs": [
    {
     "data": {
      "text/html": [
       "<div>\n",
       "<style scoped>\n",
       "    .dataframe tbody tr th:only-of-type {\n",
       "        vertical-align: middle;\n",
       "    }\n",
       "\n",
       "    .dataframe tbody tr th {\n",
       "        vertical-align: top;\n",
       "    }\n",
       "\n",
       "    .dataframe thead th {\n",
       "        text-align: right;\n",
       "    }\n",
       "</style>\n",
       "<table border=\"1\" class=\"dataframe\">\n",
       "  <thead>\n",
       "    <tr style=\"text-align: right;\">\n",
       "      <th></th>\n",
       "      <th>reviewerID</th>\n",
       "      <th>productId</th>\n",
       "      <th>reviewerName</th>\n",
       "      <th>reviewText</th>\n",
       "      <th>score</th>\n",
       "      <th>summary</th>\n",
       "      <th>unixReviewTime</th>\n",
       "      <th>reviewTime</th>\n",
       "      <th>helpfulnessNumerator</th>\n",
       "      <th>helpfulnessDenominator</th>\n",
       "    </tr>\n",
       "  </thead>\n",
       "  <tbody>\n",
       "  </tbody>\n",
       "</table>\n",
       "</div>"
      ],
      "text/plain": [
       "Empty DataFrame\n",
       "Columns: [reviewerID, productId, reviewerName, reviewText, score, summary, unixReviewTime, reviewTime, helpfulnessNumerator, helpfulnessDenominator]\n",
       "Index: []"
      ]
     },
     "execution_count": 367,
     "metadata": {},
     "output_type": "execute_result"
    }
   ],
   "source": [
    "final[final.helpfulnessNumerator>final.helpfulnessDenominator]"
   ]
  },
  {
   "cell_type": "markdown",
   "metadata": {},
   "source": [
    "### Observation \n",
    "There are no data points where helpfulnessNumerator is higher than helpfulnessDenominator"
   ]
  },
  {
   "cell_type": "code",
   "execution_count": 368,
   "metadata": {},
   "outputs": [
    {
     "data": {
      "text/plain": [
       "positive    455204\n",
       "negative     51419\n",
       "Name: score, dtype: int64"
      ]
     },
     "execution_count": 368,
     "metadata": {},
     "output_type": "execute_result"
    }
   ],
   "source": [
    "# finding the number of positive and negative reviews\n",
    "final['score'].value_counts()"
   ]
  },
  {
   "cell_type": "code",
   "execution_count": 369,
   "metadata": {},
   "outputs": [
    {
     "data": {
      "text/plain": [
       "reviewerID                object\n",
       "productId                 object\n",
       "reviewerName              object\n",
       "reviewText                object\n",
       "score                     object\n",
       "summary                   object\n",
       "unixReviewTime             int64\n",
       "reviewTime                object\n",
       "helpfulnessNumerator       int64\n",
       "helpfulnessDenominator     int64\n",
       "dtype: object"
      ]
     },
     "execution_count": 369,
     "metadata": {},
     "output_type": "execute_result"
    }
   ],
   "source": [
    "final.dtypes"
   ]
  },
  {
   "cell_type": "markdown",
   "metadata": {},
   "source": [
    " # Text Preprocessing: Stemming, stop-word removal and Lemmatization."
   ]
  },
  {
   "cell_type": "code",
   "execution_count": 385,
   "metadata": {},
   "outputs": [
    {
     "name": "stdout",
     "output_type": "stream",
     "text": [
      "6581\n",
      "About the temperatures it can handle (which for some reason aren't on the product description; you'd think this would be a key bullet point):Max recommended temp: 392F.  400F seems to be the extreme max according to the packaging, but > 392F will deteriorate the life span faster, says the instructions.  I've seen it go as low as 39F for refridgerated water; it could probably handle lower.  There's a switch on the bottom to measure in Celcius.  392F may be low for some people, so be warned.  I wonder if other reviewers with problems have been pushing this limit?  If the probe is off by as much as 10 degrees as some claim, that might explain the short lifespans.I've liked this probe so far, although admittedly I haven't used it yet for its primary purpose (measuring internal meat temperatures).  Instead I've used it as a kitchen timer and oven thermometer to monitor the oven air temps when proofing dough in it (don't want to kill my yeast!) by lodging the probe in a rack.  I haven't compared it to another thermometer/probe, so I don't know how calibrated it is, but it seems to be reasonable for my purposes.  For those of you without metal oven doors like me, it rests nicely on the countertop.  I do find the wire a bit gangly.  Oh, and the alarm is loud (which can be good or bad).\n"
     ]
    }
   ],
   "source": [
    "# printing the text example to check for punctuation\n",
    "final['reviewText'] = final[\"reviewText\"].astype('str')\n",
    "import re\n",
    "i=0;\n",
    "for sent in final['reviewText'].values:\n",
    "    if (len(re.findall('.*>', sent))):\n",
    "        print(i)\n",
    "        print(sent)\n",
    "        break;\n",
    "    i += 1;"
   ]
  },
  {
   "cell_type": "code",
   "execution_count": 390,
   "metadata": {},
   "outputs": [
    {
     "name": "stdout",
     "output_type": "stream",
     "text": [
      "Collecting nltk\n",
      "  Downloading nltk-3.5.zip (1.4 MB)\n",
      "Requirement already satisfied: click in c:\\users\\dell\\anaconda3\\envs\\ten\\lib\\site-packages (from nltk) (7.1.2)\n",
      "Requirement already satisfied: joblib in c:\\users\\dell\\anaconda3\\envs\\ten\\lib\\site-packages (from nltk) (1.0.0)\n",
      "Collecting regex\n",
      "  Downloading regex-2020.11.13-cp37-cp37m-win_amd64.whl (269 kB)\n",
      "Requirement already satisfied: tqdm in c:\\users\\dell\\anaconda3\\envs\\ten\\lib\\site-packages (from nltk) (4.48.2)\n",
      "Building wheels for collected packages: nltk\n",
      "  Building wheel for nltk (setup.py): started\n",
      "  Building wheel for nltk (setup.py): finished with status 'done'\n",
      "  Created wheel for nltk: filename=nltk-3.5-py3-none-any.whl size=1434677 sha256=bc5b16e77b59853c57a28451ca5c7afde6309ee56a9361acffefa3f32b9948cf\n",
      "  Stored in directory: c:\\users\\dell\\appdata\\local\\pip\\cache\\wheels\\45\\6c\\46\\a1865e7ba706b3817f5d1b2ff7ce8996aabdd0d03d47ba0266\n",
      "Successfully built nltk\n",
      "Installing collected packages: regex, nltk\n",
      "Successfully installed nltk-3.5 regex-2020.11.13\n"
     ]
    }
   ],
   "source": [
    "!pip install nltk\n",
    "import nltk\n",
    "from nltk.corpus import stopwords\n",
    "stop = set(stopwords.words('english')) #set of stopwords\n",
    "sno = nltk.stem.SnowballStemmer('english') #initialising the snowball stemmer\n",
    "\n",
    "def cleanhtml(sentence): #function to clean the word of any html-tags\n",
    "    cleanr = re.compile('<.*?>')\n",
    "    cleantext = re.sub(cleanr, ' ', sentence)\n",
    "    return cleantext\n",
    "def cleanpunc(sentence): #function to clean the word of any punctuation or special characters\n",
    "    cleaned = re.sub(r'[?|!|\\'|\"|#]',r'',sentence)\n",
    "    cleaned = re.sub(r'[.|,|)|(|\\|/]',r' ',cleaned)\n",
    "    return  cleaned"
   ]
  },
  {
   "cell_type": "code",
   "execution_count": 392,
   "metadata": {},
   "outputs": [],
   "source": [
    "#Code for implementing step-by-step the checks mentioned in the pre-processing phase\n",
    "\n",
    "i=0\n",
    "str1=' '\n",
    "final_string=[]\n",
    "all_positive_words=[] # store words from +ve reviews here\n",
    "all_negative_words=[] # store words from -ve reviews here.\n",
    "s=''\n",
    "for sent in final['reviewText'].values:\n",
    "    filtered_sentence=[]\n",
    "    #print(sent);\n",
    "    sent=cleanhtml(sent) # remove HTMl tags\n",
    "    for w in sent.split():\n",
    "        for cleaned_words in cleanpunc(w).split():\n",
    "            if((cleaned_words.isalpha()) & (len(cleaned_words)>2)):    \n",
    "                if(cleaned_words.lower() not in stop):\n",
    "                    s=(sno.stem(cleaned_words.lower())).encode('utf8')\n",
    "                    filtered_sentence.append(s)\n",
    "                    if (final['score'].values)[i] == 'positive': \n",
    "                        all_positive_words.append(s) #list of all words used to describe positive reviews\n",
    "                    if(final['score'].values)[i] == 'negative':\n",
    "                        all_negative_words.append(s) #list of all words used to describe negative reviews reviews\n",
    "                else:\n",
    "                    continue\n",
    "            else:\n",
    "                continue \n",
    "    #print(filtered_sentence)\n",
    "    str1 = b\" \".join(filtered_sentence) #final string of cleaned words\n",
    "    #print(\"***********************************************************************\")\n",
    "    \n",
    "    final_string.append(str1)\n",
    "    i+=1"
   ]
  },
  {
   "cell_type": "code",
   "execution_count": 393,
   "metadata": {},
   "outputs": [],
   "source": [
    "final['CleanedText']=final_string #adding a column of CleanedText which displays the data after pre-processing of the review \n",
    "final['CleanedText']=final['CleanedText'].str.decode(\"utf-8\")"
   ]
  },
  {
   "cell_type": "code",
   "execution_count": null,
   "metadata": {},
   "outputs": [],
   "source": []
  }
 ],
 "metadata": {
  "kernelspec": {
   "display_name": "Python 3",
   "language": "python",
   "name": "python3"
  },
  "language_info": {
   "codemirror_mode": {
    "name": "ipython",
    "version": 3
   },
   "file_extension": ".py",
   "mimetype": "text/x-python",
   "name": "python",
   "nbconvert_exporter": "python",
   "pygments_lexer": "ipython3",
   "version": "3.7.7"
  }
 },
 "nbformat": 4,
 "nbformat_minor": 4
}
